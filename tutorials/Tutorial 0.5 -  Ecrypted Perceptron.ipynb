{
 "cells": [
  {
   "cell_type": "markdown",
   "id": "2349086d",
   "metadata": {},
   "source": [
    "# Privacy-Preserving Machine Learning with Homomorphic Encryption\n",
    "\n",
    "This notebook demonstrates how to perform simple machine learning inference (a perceptron for the AND logic gate) on encrypted data using [TenSEAL](https://github.com/OpenMined/TenSEAL). You will learn:\n",
    "\n",
    "- What homomorphic encryption is and why it enables privacy-preserving computation.\n",
    "- The difference between the BFV and CKKS encryption schemes.\n",
    "- How quantization and encryption parameters affect accuracy and usability.\n",
    "- How to visualize and interpret the effects of encryption on ML predictions.\n",
    "\n",
    "**Goal:**\n",
    "- Show how a perceptron can be evaluated on encrypted data, and what practical caveats arise.\n",
    "- Provide insight into the trade-offs of encrypted ML workflows.\n",
    "\n",
    "\n",
    "\n",
    "\n",
    "\n",
    "## What is Homomorphic Encryption?\n",
    "Homomorphic encryption (HE) allows computations to be performed directly on encrypted data, producing encrypted results that can be decrypted to obtain the correct answer as if the computation was performed on plaintext. This is crucial for privacy-preserving machine learning, where sensitive data can be processed by untrusted servers without revealing the raw data.\n",
    "\n",
    "**Key properties:**\n",
    "- Data remains encrypted during computation.\n",
    "- Only the data owner can decrypt the results.\n",
    "- Enables secure outsourcing of computation (e.g., cloud ML inference).\n",
    "\n"
   ]
  },
  {
   "cell_type": "code",
   "execution_count": 1,
   "id": "24ad6445",
   "metadata": {},
   "outputs": [],
   "source": [
    "import numpy as np\n",
    "\n",
    "# Toy dataset: AND logic gate\n",
    "X = np.array([\n",
    "    [0, 0],\n",
    "    [0, 1],\n",
    "    [1, 0],\n",
    "    [1, 1]\n",
    "])\n",
    "y = np.array([0, 0, 0, 1])  # AND output"
   ]
  },
  {
   "cell_type": "markdown",
   "id": "1ccfd2b8",
   "metadata": {},
   "source": [
    "### Perceptron implementation"
   ]
  },
  {
   "cell_type": "code",
   "execution_count": 2,
   "metadata": {},
   "outputs": [],
   "source": [
    "class Perceptron:\n",
    "    def __init__(self, n_inputs, lr=0.1, n_epochs=10):\n",
    "        self.weights = np.zeros(n_inputs + 1)  # +1 for bias\n",
    "        self.lr = lr\n",
    "        self.n_epochs = n_epochs\n",
    "\n",
    "    def predict(self, x):\n",
    "        z = np.dot(x, self.weights[1:]) + self.weights[0]\n",
    "        return 1 if z >= 0 else 0\n",
    "\n",
    "    def fit(self, X, y):\n",
    "        for epoch in range(self.n_epochs):\n",
    "            for xi, target in zip(X, y):\n",
    "                pred = self.predict(xi)\n",
    "                update = self.lr * (target - pred)\n",
    "                self.weights[1:] += update * xi\n",
    "                self.weights[0] += update"
   ]
  },
  {
   "cell_type": "markdown",
   "id": "03b22333",
   "metadata": {},
   "source": [
    "### Train the perceptron"
   ]
  },
  {
   "cell_type": "code",
   "execution_count": 3,
   "id": "05528163",
   "metadata": {},
   "outputs": [
    {
     "name": "stdout",
     "output_type": "stream",
     "text": [
      "Trained weights: [-0.2  0.2  0.1]\n"
     ]
    }
   ],
   "source": [
    "\n",
    "perceptron = Perceptron(n_inputs=2, lr=0.1, n_epochs=10)\n",
    "perceptron.fit(X, y)\n",
    "print(\"Trained weights:\", perceptron.weights)"
   ]
  },
  {
   "cell_type": "code",
   "execution_count": 4,
   "metadata": {},
   "outputs": [
    {
     "name": "stdout",
     "output_type": "stream",
     "text": [
      "Input: [0 0], Predicted: 0, Actual: 0\n",
      "Input: [0 1], Predicted: 0, Actual: 0\n",
      "Input: [1 0], Predicted: 0, Actual: 0\n",
      "Input: [1 1], Predicted: 1, Actual: 1\n"
     ]
    }
   ],
   "source": [
    "# Test the perceptron\n",
    "for xi, target in zip(X, y):\n",
    "    pred = perceptron.predict(xi)\n",
    "    print(f\"Input: {xi}, Predicted: {pred}, Actual: {target}\")"
   ]
  },
  {
   "cell_type": "markdown",
   "id": "d7e6af8c",
   "metadata": {},
   "source": [
    "This simple perceptron learns the AND logic gate. You can try changing the dataset to OR or XOR and see how the perceptron performs.\n",
    "\n",
    "**Next steps:**  \n",
    "- Try encrypting the data and running the perceptron operations using TenSEAL vectors.\n",
    "- Explore how homomorphic encryption affects the perceptron's ability to learn and predict."
   ]
  },
  {
   "cell_type": "markdown",
   "id": "ef13b67e",
   "metadata": {},
   "source": [
    "# Encrypted Perceptron Inference with TenSEAL\n",
    "\n",
    "Now let's use TenSEAL to encrypt the input data and perform perceptron inference (prediction) on encrypted data. We'll use the trained weights from the plaintext perceptron and show how to compute the perceptron output using encrypted vectors."
   ]
  },
  {
   "cell_type": "markdown",
   "id": "47914734",
   "metadata": {},
   "source": [
    "## Homomorphic Encryption Schemes: BFV vs. CKKS\n",
    "\n",
    "**BFV (Brakerski/Fan-Vercauteren):**\n",
    "- Supports exact integer arithmetic on encrypted data.\n",
    "- Requires quantization (scaling and rounding) of real-valued data to integers.\n",
    "- Good for applications where all values are integers, but quantization can introduce errors for ML models with real weights.\n",
    "\n",
    "**CKKS (Cheon-Kim-Kim-Song):**\n",
    "- Supports approximate real-number arithmetic on encrypted data.\n",
    "- No need for quantization; can use real-valued weights and inputs directly.\n",
    "- Well-suited for most machine learning and scientific computing tasks.\n",
    "\n",
    "### Caveats and Practical Considerations\n",
    "- **Quantization (BFV):** Scaling up real values to integers can cause rounding errors and loss of precision. Too small a scale leads to large errors; too large a scale can cause integer overflow.\n",
    "- **Scale (CKKS):** Controls the precision of real-number arithmetic. Too small a scale leads to loss of precision; too large a scale can cause noise growth and decryption errors.\n",
    "- **Parameter Selection:** Security and correctness depend on encryption parameters (polynomial modulus degree, coefficient modulus, etc.). Larger parameters increase security and precision, but also slow down computation and increase memory usage.\n",
    "\n",
    "---"
   ]
  },
  {
   "cell_type": "code",
   "execution_count": 5,
   "id": "fed49dd5",
   "metadata": {},
   "outputs": [],
   "source": [
    "import tenseal as ts\n",
    "\n",
    "# Create a TenSEAL context for BFV scheme (integer operations)\n",
    "context = ts.context(\n",
    "    ts.SCHEME_TYPE.BFV,\n",
    "    poly_modulus_degree=4096,\n",
    "    plain_modulus=1032193\n",
    "    \n",
    ")\n",
    "context.generate_galois_keys()"
   ]
  },
  {
   "cell_type": "code",
   "execution_count": 6,
   "id": "5dd063b8",
   "metadata": {},
   "outputs": [],
   "source": [
    "# Encrypt the input vectors using BFV\n",
    "encrypted_inputs = [ts.bfv_vector(context, xi) for xi in X]"
   ]
  },
  {
   "cell_type": "code",
   "execution_count": 7,
   "id": "26d9a737",
   "metadata": {},
   "outputs": [
    {
     "name": "stdout",
     "output_type": "stream",
     "text": [
      "Using weights: [2 1] and bias: -2\n"
     ]
    }
   ],
   "source": [
    "# Use the trained weights (rounded to int for BFV)\n",
    "scale = 10\n",
    "w = np.round(perceptron.weights[1:] * scale).astype(int)\n",
    "b = int(np.round(perceptron.weights[0] * scale))\n",
    "\n",
    "print(\"Using weights:\", w, \"and bias:\", b)"
   ]
  },
  {
   "cell_type": "code",
   "execution_count": 14,
   "id": "7cede705",
   "metadata": {},
   "outputs": [
    {
     "name": "stdout",
     "output_type": "stream",
     "text": [
      "Using weights: [225179981368525 112589990684262] and bias: -225179981368525 (scale: 1125899906842624 )\n",
      "Input 0: decrypted z = 365036\n",
      "Input 1: decrypted z = 184501\n",
      "Input 2: decrypted z = 3967\n",
      "Input 3: decrypted z = -176568\n",
      "Encrypted perceptron predictions: [1, 1, 1, 0]\n",
      "Actual labels: [0, 0, 0, 1]\n"
     ]
    }
   ],
   "source": [
    "# Try a higher scale to reduce quantization error\n",
    "\n",
    "w = np.round(perceptron.weights[1:] * scale).astype(int)\n",
    "b = int(np.round(perceptron.weights[0] * scale))\n",
    "\n",
    "print(\"Using weights:\", w, \"and bias:\", b, \"(scale:\", scale, \")\")\n",
    "\n",
    "encrypted_outputs = []\n",
    "z_values = []\n",
    "for i, enc_x in enumerate(encrypted_inputs):\n",
    "    enc_wx = enc_x * w\n",
    "    enc_sum = enc_wx.sum() + b\n",
    "    z = enc_sum.decrypt()\n",
    "    z_val = z[0] if isinstance(z, list) else z\n",
    "    z_values.append(z_val)\n",
    "    pred = 1 if z_val >= 0 else 0\n",
    "    encrypted_outputs.append(pred)\n",
    "    print(f\"Input {i}: decrypted z = {z_val}\")\n",
    "print(\"Encrypted perceptron predictions:\", encrypted_outputs)\n",
    "print(\"Actual labels:\", y.tolist())"
   ]
  },
  {
   "cell_type": "code",
   "execution_count": 15,
   "id": "d4693445",
   "metadata": {},
   "outputs": [
    {
     "name": "stdout",
     "output_type": "stream",
     "text": [
      "\n",
      "--- Diagnostics: Plaintext vs Encrypted ---\n",
      "Original perceptron weights: [0.2 0.1], bias: -0.20000000000000004\n",
      "Scaled weights: [225179981368525 112589990684262], scaled bias: -225179981368525\n",
      "Input 0: x=[0 0], Plain z=-0.2000, Enc z=0.0000, Plain pred=0, Enc pred=1, Label=0\n",
      "Input 1: x=[0 1], Plain z=-0.1000, Enc z=0.0000, Plain pred=0, Enc pred=1, Label=0\n",
      "Input 2: x=[1 0], Plain z=-0.0000, Enc z=0.0000, Plain pred=0, Enc pred=1, Label=0\n",
      "Input 3: x=[1 1], Plain z=0.1000, Enc z=-0.0000, Plain pred=1, Enc pred=0, Label=1\n",
      "\n",
      "If encrypted z values are close to plaintext z, but predictions differ, try increasing scale further or check for integer overflow.\n"
     ]
    }
   ],
   "source": [
    "# Diagnostics: Compare plaintext and encrypted perceptron outputs\n",
    "print(\"\\n--- Diagnostics: Plaintext vs Encrypted ---\")\n",
    "print(f\"Original perceptron weights: {perceptron.weights[1:]}, bias: {perceptron.weights[0]}\")\n",
    "print(f\"Scaled weights: {w}, scaled bias: {b}\")\n",
    "\n",
    "for i, xi in enumerate(X):\n",
    "    z_plain = np.dot(xi, perceptron.weights[1:]) + perceptron.weights[0]\n",
    "    z_enc = z_values[i] / scale  # De-quantize\n",
    "    pred_plain = 1 if z_plain >= 0 else 0\n",
    "    pred_enc = encrypted_outputs[i]\n",
    "    print(f\"Input {i}: x={xi}, Plain z={z_plain:.4f}, Enc z={z_enc:.4f}, Plain pred={pred_plain}, Enc pred={pred_enc}, Label={y[i]}\")\n",
    "\n",
    "print(\"\\nIf encrypted z values are close to plaintext z, but predictions differ, try increasing scale further or check for integer overflow.\")"
   ]
  },
  {
   "cell_type": "markdown",
   "id": "c7306a7a",
   "metadata": {},
   "source": [
    "# Plot: Effect of Quantization Scale on BFV Prediction Accuracy"
   ]
  },
  {
   "cell_type": "markdown",
   "id": "e0f7298b",
   "metadata": {},
   "source": [
    "<details>\n",
    "<summary><b>What is Quantization and Why Does it Matter for Homomorphic Encryption?</b></summary>\n",
    "\n",
    "Quantization is the process of mapping real-valued numbers (such as neural network weights or input features) to integers. This is necessary for encryption schemes like BFV, which only support integer arithmetic. In practice, quantization is done by multiplying real values by a scale factor and rounding to the nearest integer.\n",
    "\n",
    "**Why is this important?**\n",
    "- Many machine learning models use real-valued weights and activations.\n",
    "- Integer-only encryption schemes (like BFV) require all computations to be performed on integers.\n",
    "- Quantization introduces rounding errors, which can affect the accuracy of encrypted computations.\n",
    "- Choosing the right scale is a trade-off: too small, and you lose precision; too large, and you risk integer overflow or performance issues.\n",
    "\n",
    "**In summary:** Quantization is a key caveat when using integer-only homomorphic encryption for machine learning. It can introduce errors that do not exist in the plaintext model, and must be carefully managed for accurate results.\n",
    "\n",
    "</details>"
   ]
  },
  {
   "cell_type": "code",
   "execution_count": 10,
   "id": "2e1844ce",
   "metadata": {},
   "outputs": [
    {
     "data": {
      "image/png": "[encoded data removed]",
      "text/plain": [
       "<Figure size 640x480 with 2 Axes>"
      ]
     },
     "metadata": {},
     "output_type": "display_data"
    }
   ],
   "source": [
    "\n",
    "import matplotlib.pyplot as plt\n",
    "\n",
    "scales = [1, 10, 100, 1000, 10000]\n",
    "accuracies = []\n",
    "errors = []\n",
    "\n",
    "for scale in scales:\n",
    "    w = np.round(perceptron.weights[1:] * scale).astype(int)\n",
    "    b = int(np.round(perceptron.weights[0] * scale))\n",
    "    preds = []\n",
    "    z_errs = []\n",
    "    for xi, target in zip(X, y):\n",
    "        z_plain = np.dot(xi, perceptron.weights[1:]) + perceptron.weights[0]\n",
    "        z_enc = (np.dot(xi, w) + b) / scale\n",
    "        pred = 1 if z_enc >= 0 else 0\n",
    "        preds.append(pred)\n",
    "        z_errs.append(abs(z_plain - z_enc))\n",
    "    acc = np.mean(np.array(preds) == y)\n",
    "    accuracies.append(acc)\n",
    "    errors.append(np.mean(z_errs))\n",
    "\n",
    "fig, ax1 = plt.subplots()\n",
    "color = 'tab:blue'\n",
    "ax1.set_xlabel('Quantization Scale')\n",
    "ax1.set_ylabel('Prediction Accuracy', color=color)\n",
    "ax1.plot(scales, accuracies, marker='o', color=color)\n",
    "ax1.set_xscale('log')\n",
    "ax1.set_ylim(0, 1.05)\n",
    "ax1.tick_params(axis='y', labelcolor=color)\n",
    "\n",
    "ax2 = ax1.twinx()\n",
    "color = 'tab:red'\n",
    "ax2.set_ylabel('Mean Quantization Error', color=color)\n",
    "ax2.plot(scales, errors, marker='x', color=color)\n",
    "ax2.set_xscale('log')\n",
    "ax2.tick_params(axis='y', labelcolor=color)\n",
    "\n",
    "plt.title('Effect of Quantization Scale (BFV) on Accuracy and Error')\n",
    "plt.show()"
   ]
  },
  {
   "cell_type": "code",
   "execution_count": 11,
   "id": "dbea4fe6",
   "metadata": {},
   "outputs": [
    {
     "name": "stdout",
     "output_type": "stream",
     "text": [
      "\n",
      "--- Encrypted Perceptron Inference with CKKS ---\n",
      "Input 0: decrypted z = -0.20000012037170425\n",
      "Input 1: decrypted z = -0.10000011174099643\n",
      "Input 2: decrypted z = -8.982006992341862e-08\n",
      "Input 3: decrypted z = 0.09999990870551659\n",
      "CKKS encrypted perceptron predictions: [0, 0, 0, 1]\n",
      "Actual labels: [0, 0, 0, 1]\n",
      "Input 0: decrypted z = -0.20000012037170425\n",
      "Input 1: decrypted z = -0.10000011174099643\n",
      "Input 2: decrypted z = -8.982006992341862e-08\n",
      "Input 3: decrypted z = 0.09999990870551659\n",
      "CKKS encrypted perceptron predictions: [0, 0, 0, 1]\n",
      "Actual labels: [0, 0, 0, 1]\n"
     ]
    }
   ],
   "source": [
    "# Encrypted Perceptron Inference with CKKS (real-valued)\n",
    "print(\"\\n--- Encrypted Perceptron Inference with CKKS ---\")\n",
    "ckks_context = ts.context(\n",
    "    ts.SCHEME_TYPE.CKKS,\n",
    "    poly_modulus_degree=8192,\n",
    "    coeff_mod_bit_sizes=[60, 40, 40, 60]\n",
    ")\n",
    "ckks_context.generate_galois_keys()\n",
    "ckks_context.global_scale = 2**40\n",
    "\n",
    "# Encrypt the input vectors using CKKS\n",
    "ckks_encrypted_inputs = [ts.ckks_vector(ckks_context, xi) for xi in X]\n",
    "\n",
    "ckks_outputs = []\n",
    "ckks_z_values = []\n",
    "for i, enc_x in enumerate(ckks_encrypted_inputs):\n",
    "    # Multiply encrypted input by real weights\n",
    "    enc_wx = enc_x * perceptron.weights[1:]\n",
    "    enc_sum = enc_wx.sum() + perceptron.weights[0]\n",
    "    z = enc_sum.decrypt()\n",
    "    z_val = z[0] if isinstance(z, list) else z\n",
    "    ckks_z_values.append(z_val)\n",
    "    pred = 1 if z_val >= 0 else 0\n",
    "    ckks_outputs.append(pred)\n",
    "    print(f\"Input {i}: decrypted z = {z_val}\")\n",
    "print(\"CKKS encrypted perceptron predictions:\", ckks_outputs)\n",
    "print(\"Actual labels:\", y.tolist())"
   ]
  },
  {
   "cell_type": "code",
   "execution_count": 12,
   "id": "709b0f62",
   "metadata": {},
   "outputs": [
    {
     "data": {
      "image/png": "[encoded data removed]",
      "text/plain": [
       "<Figure size 640x480 with 1 Axes>"
      ]
     },
     "metadata": {},
     "output_type": "display_data"
    }
   ],
   "source": [
    "# Plot: Effect of CKKS Global Scale on Decryption Precision\n",
    "ckks_scales = [2**20, 2**30, 2**40, 2**50]\n",
    "ckks_zs = []\n",
    "plain_z = np.dot(X[3], perceptron.weights[1:]) + perceptron.weights[0]  # Use [1,1] input\n",
    "for scale in ckks_scales:\n",
    "    ctx = ts.context(\n",
    "        ts.SCHEME_TYPE.CKKS,\n",
    "        poly_modulus_degree=8192,\n",
    "        coeff_mod_bit_sizes=[60, 40, 40, 60]\n",
    "    )\n",
    "    ctx.global_scale = scale\n",
    "    ctx.generate_galois_keys()\n",
    "    enc_x = ts.ckks_vector(ctx, X[3])\n",
    "    enc_wx = enc_x * perceptron.weights[1:]\n",
    "    enc_sum = enc_wx.sum() + perceptron.weights[0]\n",
    "    z = enc_sum.decrypt()\n",
    "    z_val = z[0] if isinstance(z, list) else z\n",
    "    ckks_zs.append(z_val)\n",
    "\n",
    "plt.figure()\n",
    "plt.plot([np.log2(s) for s in ckks_scales], ckks_zs, marker='o', label='Decrypted z (CKKS)')\n",
    "plt.axhline(plain_z, color='r', linestyle='--', label='Plaintext z')\n",
    "plt.xlabel('log2(Global Scale)')\n",
    "plt.ylabel('Decrypted z value')\n",
    "plt.title('Effect of CKKS Global Scale on Decryption Precision')\n",
    "plt.legend()\n",
    "plt.show()"
   ]
  },
  {
   "cell_type": "code",
   "execution_count": 13,
   "id": "5f5cb43b",
   "metadata": {},
   "outputs": [
    {
     "name": "stdout",
     "output_type": "stream",
     "text": [
      "Encrypted perceptron predictions: [0, 0, 1, 1]\n",
      "Actual labels: [0, 0, 0, 1]\n"
     ]
    }
   ],
   "source": [
    "print(\"Encrypted perceptron predictions:\", encrypted_outputs)\n",
    "print(\"Actual labels:\", y.tolist())"
   ]
  },
  {
   "cell_type": "markdown",
   "id": "12483e20",
   "metadata": {},
   "source": [
    "**Note:**  \n",
    "- In this example, only the input data is encrypted. The weights and bias are kept in plaintext for simplicity.\n",
    "- The perceptron activation (step function) is applied after decryption, since non-linear functions are not directly supported in BFV.\n",
    "- This demonstrates privacy-preserving inference: the server can compute predictions on encrypted data without seeing the raw inputs.\n",
    "\n",
    "You can experiment with other logic gates or datasets, and try using the CKKS scheme for real-valued data!"
   ]
  },
  {
   "cell_type": "markdown",
   "id": "24d3f5e4",
   "metadata": {},
   "source": [
    "---\n",
    "\n",
    "## Scientific Takeaways and Further Reading\n",
    "\n",
    "- **Homomorphic encryption** enables privacy-preserving computation, but comes with trade-offs in performance, accuracy, and parameter selection.\n",
    "- **BFV** is suitable for integer-only workflows, but quantization can introduce significant errors for ML models with real-valued weights.\n",
    "- **CKKS** allows real-number computation, making it more practical for most ML and scientific applications, but results are approximate.\n",
    "- **Parameter tuning** (scale, modulus degree, etc.) is critical for balancing security, accuracy, and efficiency.\n",
    "- **Visualization** helps understand the impact of encryption parameters on model performance and output fidelity.\n",
    "\n",
    "### Further Reading\n",
    "- [TenSEAL Documentation](https://github.com/OpenMined/TenSEAL)\n",
    "- [Microsoft SEAL Manual](https://github.com/microsoft/SEAL)\n",
    "- [Homomorphic Encryption Standardization](https://homomorphicencryption.org/)\n",
    "- [OpenMined Blog: Privacy-Preserving ML](https://blog.openmined.org/)\n",
    "\n",
    "**Try experimenting with:**\n",
    "- Different logic gates or datasets\n",
    "- Training on encrypted data (more advanced)\n",
    "- Varying encryption parameters and observing effects\n",
    "- Using TenSEAL in real-world privacy-preserving ML workflows\n",
    "\n",
    "---"
   ]
  },
  {
   "cell_type": "markdown",
   "id": "3a4f3dc4",
   "metadata": {},
   "source": []
  }
 ],
 "metadata": {
  "kernelspec": {
   "display_name": "encryptML",
   "language": "python",
   "name": "python3"
  },
  "language_info": {
   "codemirror_mode": {
    "name": "ipython",
    "version": 3
   },
   "file_extension": ".py",
   "mimetype": "text/x-python",
   "name": "python",
   "nbconvert_exporter": "python",
   "pygments_lexer": "ipython3",
   "version": "3.12.11"
  }
 },
 "nbformat": 4,
 "nbformat_minor": 5
}
