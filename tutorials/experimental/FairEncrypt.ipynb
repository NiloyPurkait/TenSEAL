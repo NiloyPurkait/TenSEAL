{
 "cells": [
  {
   "cell_type": "code",
   "execution_count": 1,
   "id": "c1ffa421",
   "metadata": {},
   "outputs": [
    {
     "name": "stdout",
     "output_type": "stream",
     "text": [
      "Loaded .env from: c:\\Users\\u517685\\Documents\\TenSEAL\\experiments\\.env\n"
     ]
    }
   ],
   "source": [
    "import os, sys, dotenv\n",
    "env_path = os.path.abspath(os.path.join(os.getcwd(), \"../../experiments/.env\"))\n",
    "dotenv.load_dotenv(env_path)\n",
    "\n",
    "\n",
    "print(\"Loaded .env from:\", env_path)\n",
    "\n",
    "sys.path.append(os.getenv(\"SCRIPT_PATH\"))\n"
   ]
  },
  {
   "cell_type": "markdown",
   "id": "3dae37ba",
   "metadata": {},
   "source": [
    "# Fairness, Privacy, and Homomorphic Encryption in Machine Learning\n",
    "\n",
    "This notebook hows how to use homomorphic encryption (HE) for privacy-preserving machine learning (ML) experiments. We use TenSEAL to perform encrypted inference on a neural network trained on the Adult dataset, and discuss how HE enables secure evaluation without revealing sensitive data. \n",
    "\n",
    "**Key concepts:**\n",
    "- Homomorphic encryption allows computation on encrypted data, enabling privacy-preserving ML.\n",
    "- HE only supports addition and multiplication, so we use polynomial approximations for activations (e.g., cubic sigmoid) instead of standard non-linearities.\n",
    "- In deep models, only the first layer is typically evaluated under encryption; the rest is done in plaintext after decryption, due to HE limitations.\n",
    "- We compare plaintext and encrypted accuracy, and discuss implications for fairness and privacy research.\n",
    "- There is a tradeoff between privacy and computational efficiency: encrypted inference is much slower than plaintext, but protects sensitive data throughout computation."
   ]
  },
  {
   "cell_type": "markdown",
   "id": "35537ab1",
   "metadata": {},
   "source": [
    "<details>\n",
    "\n",
    "<summary >Scientific Context: Homomorphic Encryption and Deep Neural Networks </summary>\n",
    "\n",
    "Homomorphic encryption (HE) enables computation on encrypted data, but it comes with important limitations for deep learning:\n",
    "\n",
    "- **Supported Operations:** HE schemes like CKKS only support addition and multiplication. This means that only polynomial functions can be computed directly on encrypted data.\n",
    "- **Activation Functions:** Standard neural network activations (e.g., sigmoid, ReLU, tanh) are not polynomials. To use them under HE, we must approximate them with low-degree polynomials (e.g., cubic sigmoid), which are only accurate within a certain input range.\n",
    "- **Depth Limitation:** Each multiplication increases the \"noise\" in ciphertexts. As a result, only a limited number of layers (typically just the first linear + activation) can be run under encryption before decryption is required. The rest of the network must be evaluated in plaintext after decryption.\n",
    "- **Tradeoff:** There is a fundamental tradeoff between privacy and computational efficiency. Encrypted inference is much slower and more resource-intensive than plaintext, but it protects sensitive data throughout computation.\n",
    "</details>  \n",
    "\n",
    "**In this notebook:**\n",
    "- We show encrypted inference by running the first layer of a neural network under HE, using a polynomial activation.\n",
    "- We compare the results to plaintext inference, and discuss the implications for privacy, fairness, and scientific research.\n"
   ]
  },
  {
   "cell_type": "code",
   "execution_count": 2,
   "id": "9d3f7ae5",
   "metadata": {},
   "outputs": [],
   "source": [
    "from models.neural_net import PytorchModel"
   ]
  },
  {
   "cell_type": "markdown",
   "id": "50fb94f4",
   "metadata": {},
   "source": [
    "## 1. Define and Train a Neural Network Model\n",
    "\n",
    "We define a standard PyTorch neural network for binary classification. This model will be trained on the Adult dataset in plaintext. Later, we will use its weights for encrypted inference. Training in plaintext is much faster and more accurate, but does not provide privacy."
   ]
  },
  {
   "cell_type": "code",
   "execution_count": 3,
   "id": "16e4e52d",
   "metadata": {},
   "outputs": [],
   "source": [
    "\n",
    "import torch\n",
    "import tenseal as ts\n",
    "import numpy as np\n",
    "import matplotlib.pyplot as plt"
   ]
  },
  {
   "cell_type": "markdown",
   "id": "58d05701",
   "metadata": {},
   "source": [
    "### Import Required Libraries\n",
    "\n",
    "We import PyTorch for building and training neural networks, TenSEAL for homomorphic encryption, and other standard libraries for data processing and visualization."
   ]
  },
  {
   "cell_type": "code",
   "execution_count": 4,
   "id": "bef8fb87",
   "metadata": {},
   "outputs": [],
   "source": [
    "from data.data_preprocessor import get_adult\n",
    "from data.metadata import feat_dict"
   ]
  },
  {
   "cell_type": "markdown",
   "id": "2f1007d1",
   "metadata": {},
   "source": [
    "### 2. Load and Preprocess the Data\n",
    "\n",
    "We use the Adult dataset, a standard benchmark for fairness and privacy research. Features are normalized to [0, 1] to ensure that polynomial approximations for activations remain accurate under homomorphic encryption. Data is split into training and test sets.\n",
    "\n",
    "**Note:** Normalization is essential because polynomial approximations (like our cubic sigmoid) are only accurate within a certain input range. If features are not normalized, encrypted inference can become unstable or inaccurate."
   ]
  },
  {
   "cell_type": "markdown",
   "id": "2b1c44cf",
   "metadata": {},
   "source": [
    "#### Why Normalization Matters for Encrypted Neural Networks\n",
    "\n",
    "Polynomial approximations of activation functions (like cubic sigmoid) are only accurate within a certain input range (e.g., [-5, 5]).\n",
    "\n",
    "- If the pre-activation values (inputs to the polynomial) are outside this range, the approximation becomes inaccurate, leading to poor predictions.\n",
    "- Normalizing features to [0, 1] (or standardizing to mean 0, std 1) helps ensure that the values passed to the polynomial activation remain within the valid range.\n",
    "- Regularization of model weights can also help keep pre-activation values small during training.\n",
    "\n",
    "**Best practice:** Always check the distribution of pre-activation values before running encrypted inference, and adjust normalization or regularization as needed."
   ]
  },
  {
   "cell_type": "code",
   "execution_count": 5,
   "id": "3ad0b920",
   "metadata": {},
   "outputs": [
    {
     "name": "stderr",
     "output_type": "stream",
     "text": [
      "C:\\Users/u517685/Documents/TenSEAL/experiments\\data\\data_preprocessor.py:173: FutureWarning: Downcasting behavior in `replace` is deprecated and will be removed in a future version. To retain the old behavior, explicitly call `result.infer_objects(copy=False)`. To opt-in to the future behavior, set `pd.set_option('future.no_silent_downcasting', True)`\n",
      "  df[sens_attr] = df[sens_attr].replace(value_codes).astype(int)\n"
     ]
    }
   ],
   "source": [
    "df  = get_adult()"
   ]
  },
  {
   "cell_type": "code",
   "execution_count": null,
   "id": "c344e189",
   "metadata": {},
   "outputs": [
    {
     "name": "stderr",
     "output_type": "stream",
     "text": [
      "Training Progress: 100%|██████████| 10/10 [00:04<00:00,  2.09epoch/s, Loss=0.3239]\n",
      "Training Progress: 100%|██████████| 10/10 [00:04<00:00,  2.09epoch/s, Loss=0.3239]\n"
     ]
    }
   ],
   "source": [
    "from sklearn.model_selection import train_test_split\n",
    "from sklearn.preprocessing import MinMaxScaler\n",
    "\n",
    "# Split the dataset into training and testing sets\n",
    "X = df.drop(columns=feat_dict[\"adult\"][\"target\"])\n",
    "y = df[feat_dict[\"adult\"][\"target\"]]\n",
    "X_train, X_test, y_train, y_test = train_test_split(X, y, test_size=0.2, random_state=42)\n",
    "# Normalize the features\n",
    "scaler = MinMaxScaler()\n",
    "X_train = scaler.fit_transform(X_train)\n",
    "X_test = scaler.transform(X_test)\n",
    "# Convert to PyTorch tensors\n",
    "X_train_tensor = torch.tensor(X_train, dtype=torch.float32)\n",
    "X_test_tensor = torch.tensor(X_test, dtype=torch.float32)\n",
    "y_train_tensor = torch.tensor(y_train.values, dtype=torch.float32).unsqueeze(1)\n",
    "y_test_tensor = torch.tensor(y_test.values, dtype=torch.float32).unsqueeze(1)\n",
    "# Create a PyTorch model\n",
    "model = PytorchModel(hidden_sizes=[200], batch_size=256, epochs=10, learning_rate=0.001)\n",
    "model.fit(X_train, y_train, epochs=10, batch_size=256, learning_rate=0.001, hidden_sizes=[200])"
   ]
  },
  {
   "cell_type": "code",
   "execution_count": 8,
   "id": "d00e1947",
   "metadata": {},
   "outputs": [
    {
     "data": {
      "image/png": "[encoded data removed]",
      "text/plain": [
       "<Figure size 640x480 with 1 Axes>"
      ]
     },
     "metadata": {},
     "output_type": "display_data"
    },
    {
     "name": "stdout",
     "output_type": "stream",
     "text": [
      "Mean: 0.32, Std: 0.19, Min: -0.37, Max: 1.37\n",
      "Recommended: Most values should be within [-5, 5] for accurate polynomial activation.\n"
     ]
    }
   ],
   "source": [
    "# Plot the distribution of pre-activation values for the first layer\n",
    "with torch.no_grad():\n",
    "    linear = model.model[0]\n",
    "    w = linear.weight.data.cpu().numpy()\n",
    "    b = linear.bias.data.cpu().numpy()\n",
    "    if w.ndim == 2:\n",
    "        w_vec = w[0]\n",
    "    else:\n",
    "        w_vec = w\n",
    "    w_vec = np.array(w_vec).flatten()\n",
    "    b_val = float(b[0]) if b.ndim > 0 else float(b)\n",
    "    pre_activations = X_test @ w_vec + b_val\n",
    "    plt.hist(pre_activations, bins=50, alpha=0.7)\n",
    "    plt.title('Distribution of Pre-Activation Values (First Layer)')\n",
    "    plt.xlabel('Value')\n",
    "    plt.ylabel('Frequency')\n",
    "    plt.show()\n",
    "    print(f\"Mean: {pre_activations.mean():.2f}, Std: {pre_activations.std():.2f}, Min: {pre_activations.min():.2f}, Max: {pre_activations.max():.2f}\")\n",
    "    print(\"Recommended: Most values should be within [-5, 5] for accurate polynomial activation.\")"
   ]
  },
  {
   "cell_type": "markdown",
   "id": "149bc9aa",
   "metadata": {},
   "source": [
    "### 3. Evaluate Model on Plaintext Test Data\n",
    "\n",
    "We first evaluate the trained model on unencrypted (plaintext) test data. This provides a baseline for accuracy and allows us to compare with encrypted inference later."
   ]
  },
  {
   "cell_type": "code",
   "execution_count": 9,
   "id": "401e794e",
   "metadata": {},
   "outputs": [
    {
     "name": "stdout",
     "output_type": "stream",
     "text": [
      "Plaintext test accuracy: 0.8442\n"
     ]
    }
   ],
   "source": [
    "# 2. Evaluate on plaintext test data\n",
    "from sklearn.metrics import accuracy_score\n",
    "\n",
    "y_pred = model.predict(X_test)\n",
    "acc = accuracy_score(y_test, y_pred)\n",
    "print(f\"Plaintext test accuracy: {acc:.4f}\")"
   ]
  },
  {
   "cell_type": "markdown",
   "id": "088ae273",
   "metadata": {},
   "source": [
    "### 4. Prepare Homomorphic Encryption Context\n",
    "\n",
    "We set up the TenSEAL context for CKKS homomorphic encryption. This context defines the encryption parameters, including polynomial modulus degree and coefficient modulus sizes, which control the security and precision of encrypted computation."
   ]
  },
  {
   "cell_type": "code",
   "execution_count": 10,
   "id": "f403c9eb",
   "metadata": {},
   "outputs": [],
   "source": [
    "# 3. Prepare TenSEAL context for encryption\n",
    "poly_mod_degree = 8192\n",
    "coeff_mod_bit_sizes = [40, 21, 21, 21, 21, 21, 21, 40]\n",
    "context = ts.context(ts.SCHEME_TYPE.CKKS, poly_mod_degree, -1, coeff_mod_bit_sizes)\n",
    "context.global_scale = 2 ** 21\n",
    "context.generate_galois_keys()"
   ]
  },
  {
   "cell_type": "markdown",
   "id": "53e945b2",
   "metadata": {},
   "source": [
    "### 5. Encrypt the Test Data\n",
    "\n",
    "We encrypt each test sample using the TenSEAL context. This allows us to perform inference on encrypted data, ensuring that sensitive information is never exposed during evaluation."
   ]
  },
  {
   "cell_type": "code",
   "execution_count": 11,
   "id": "ff4bdda8",
   "metadata": {},
   "outputs": [],
   "source": [
    "# 4. Encrypt the test data\n",
    "enc_X_test = [ts.ckks_vector(context, x.tolist()) for x in X_test_tensor]"
   ]
  },
  {
   "cell_type": "markdown",
   "id": "29d12b2e",
   "metadata": {},
   "source": [
    "### 6. Define Encrypted Forward Pass\n",
    "\n",
    "Homomorphic encryption only supports addition and multiplication, so we cannot use standard non-linear activations (like sigmoid or ReLU). Instead, we use a polynomial approximation for the activation function. Here, we implement the encrypted forward pass for the first layer of the neural network, using a cubic polynomial to approximate the sigmoid."
   ]
  },
  {
   "cell_type": "code",
   "execution_count": 12,
   "id": "717af373",
   "metadata": {},
   "outputs": [],
   "source": [
    "def encrypted_first_layer_forward(model, enc_x, context):\n",
    "    # Only run the first linear layer + activation under encryption\n",
    "    linear = model.model[0]\n",
    "    w = linear.weight.data.cpu().numpy()\n",
    "    b = linear.bias.data.cpu().numpy()\n",
    "    # Ensure w_vec is a 1D list matching the input vector length\n",
    "    if w.ndim == 2:\n",
    "        w_vec = w[0]\n",
    "    else:\n",
    "        w_vec = w\n",
    "    w_vec = np.array(w_vec).flatten().tolist()\n",
    "    b_val = float(b[0]) if b.ndim > 0 else float(b)\n",
    "    # Debug: print shapes if error persists\n",
    "    # print(f\"enc_x len: {len(enc_x.decrypt())}, w_vec len: {len(w_vec)}\")\n",
    "    enc_out = enc_x.dot(w_vec) + b_val\n",
    "    # Polynomial activation\n",
    "    poly_coeffs = [0.5, 0.197, 0, -0.004]\n",
    "    enc_out = enc_out.polyval(poly_coeffs)\n",
    "    return enc_out"
   ]
  },
  {
   "cell_type": "code",
   "execution_count": 13,
   "id": "6115b5ba",
   "metadata": {},
   "outputs": [],
   "source": [
    "import time\n",
    "\n",
    "def safe_encrypted_forward(model, enc_x, context, max_layers=None, poly_coeffs=[0.5, 0.197, 0, -0.004]):\n",
    "    \"\"\"\n",
    "    Encrypted forward pass with error handling and timing.\n",
    "    Returns output, layers_run, runtime, and error (if any).\n",
    "    \"\"\"\n",
    "    start = time.time()\n",
    "    try:\n",
    "        enc_out, layers_run = encrypted_forward_modular(model, enc_x, context, max_layers, poly_coeffs)\n",
    "        runtime = time.time() - start\n",
    "        return enc_out, layers_run, runtime, None\n",
    "    except Exception as e:\n",
    "        runtime = time.time() - start\n",
    "        print(f\"[Error] Encrypted forward failed: {e}\")\n",
    "        return None, 0, runtime, str(e)\n",
    "\n",
    "# Example usage for a single sample:\n",
    "# enc_out, layers_run, runtime, error = safe_encrypted_forward(model, enc_X_test[0], context)\n"
   ]
  },
  {
   "cell_type": "code",
   "execution_count": 14,
   "id": "45ac8aa4",
   "metadata": {},
   "outputs": [],
   "source": [
    "def encrypted_forward_modular(model, enc_x, context, max_layers=None, poly_coeffs=[0.5, 0.197, 0, -0.004]):\n",
    "    \"\"\"\n",
    "    Run as many layers as possible under HE (linear + polynomial activation),\n",
    "    stopping at the first unsupported operation or at max_layers.\n",
    "    Returns the encrypted output and the number of layers run under HE.\n",
    "    \"\"\"\n",
    "    layers = list(model.model)\n",
    "    enc_out = enc_x\n",
    "    layers_run = 0\n",
    "    for i, layer in enumerate(layers):\n",
    "        # Only support Linear and polynomial activation\n",
    "        if isinstance(layer, torch.nn.Linear):\n",
    "            w = layer.weight.data.cpu().numpy()\n",
    "            b = layer.bias.data.cpu().numpy()\n",
    "            if w.ndim == 2:\n",
    "                w_vec = w[0]\n",
    "            else:\n",
    "                w_vec = w\n",
    "            w_vec = np.array(w_vec).flatten().tolist()\n",
    "            b_val = float(b[0]) if b.ndim > 0 else float(b)\n",
    "            enc_out = enc_out.dot(w_vec) + b_val\n",
    "            layers_run += 1\n",
    "        elif isinstance(layer, torch.nn.Sigmoid) or isinstance(layer, torch.nn.ReLU):\n",
    "            # Only polynomial activations are supported under HE\n",
    "            enc_out = enc_out.polyval(poly_coeffs)\n",
    "            layers_run += 1\n",
    "        else:\n",
    "            # Stop at unsupported layer\n",
    "            break\n",
    "        if max_layers is not None and layers_run >= max_layers:\n",
    "            break\n",
    "    return enc_out, layers_run\n",
    "\n",
    "def get_supported_he_layers(model):\n",
    "    \"\"\"\n",
    "    Returns the number of layers that can be run under HE (Linear + polynomial activation).\n",
    "    \"\"\"\n",
    "    count = 0\n",
    "    for layer in model.model:\n",
    "        if isinstance(layer, torch.nn.Linear) or isinstance(layer, torch.nn.Sigmoid) or isinstance(layer, torch.nn.ReLU):\n",
    "            count += 1\n",
    "        else:\n",
    "            break\n",
    "    return count\n"
   ]
  },
  {
   "cell_type": "code",
   "execution_count": null,
   "id": "1b556bc8",
   "metadata": {},
   "outputs": [
    {
     "name": "stderr",
     "output_type": "stream",
     "text": [
      " 99%|█████████▊| 5951/6033 [09:41<00:07, 10.69it/s]"
     ]
    }
   ],
   "source": [
    "from tqdm import tqdm\n",
    "# Evaluate on encrypted test data (for a single-layer model)\n",
    "y_pred_enc = []\n",
    "for enc_x in tqdm(enc_X_test):\n",
    "    enc_out = encrypted_first_layer_forward(model, enc_x, context)\n",
    "    out = enc_out.decrypt()\n",
    "    if isinstance(out, list):\n",
    "        out = out[0]\n",
    "    y_pred_enc.append(int(out > 0.5))\n",
    "acc_enc = accuracy_score(y_test, y_pred_enc)\n",
    "print(f\"Encrypted test accuracy (first layer only): {acc_enc:.4f}\")"
   ]
  },
  {
   "cell_type": "markdown",
   "id": "528a9f6a",
   "metadata": {},
   "source": [
    "### 7. Evaluate Model on Encrypted Test Data\n",
    "\n",
    "We now perform inference on the encrypted test set using the encrypted forward pass. The predictions are decrypted only for accuracy calculation. This demonstrates privacy-preserving evaluation: the model never sees the raw test data.\n",
    "\n",
    "**Performance Note:** Homomorphic encryption is much slower than plaintext computation. For practical reasons, we only encrypt the test set for demonstration. Full encrypted training or multi-layer encrypted inference is currently impractical for deep models."
   ]
  },
  {
   "cell_type": "code",
   "execution_count": null,
   "id": "044aff12",
   "metadata": {},
   "outputs": [
    {
     "name": "stdout",
     "output_type": "stream",
     "text": [
      "Calculating fairness metrics for sex in adult\n",
      "Calculating fairness metrics for race in adult\n"
     ]
    }
   ],
   "source": [
    "import pandas as pd\n",
    "from helpers.compute_fairness import calculate_all_fairness_metrics\n",
    "\n",
    "# Build df_test with all required columns for fairness analysis\n",
    "columns = df.drop(feat_dict['adult']['target'], axis=1).columns\n",
    "\n",
    "df_test = pd.DataFrame(X_test, columns=columns)\n",
    "df_test[feat_dict[\"adult\"][\"target\"]] = y_test.values\n"
   ]
  },
  {
   "cell_type": "code",
   "execution_count": null,
   "id": "51217aee",
   "metadata": {},
   "outputs": [],
   "source": [
    "# Compute fairness metrics for plaintext predictions\n",
    "plain_df_test = pd.DataFrame(X_test, columns=columns)\n",
    "plain_df_test[feat_dict[\"adult\"][\"target\"]] = y_test.values\n",
    "plain_df_test['predicted_label'] = model.predict(X_test)\n",
    "plain_fairness_metrics = calculate_all_fairness_metrics(\n",
    "    model, df_test=plain_df_test, dataset_name=\"adult\"\n",
    ")\n",
    "\n",
    "# Compute fairness metrics for encrypted predictions\n",
    "# (Assume y_pred_enc was computed in the encrypted evaluation cell)\n",
    "encrypted_df_test = pd.DataFrame(X_test, columns=columns)\n",
    "encrypted_df_test[feat_dict[\"adult\"][\"target\"]] = y_test.values\n",
    "encrypted_df_test['predicted_label'] = y_pred_enc\n",
    "encrypted_fairness_metrics = calculate_all_fairness_metrics(\n",
    "    model, df_test=encrypted_df_test, dataset_name=\"adult\"\n",
    ")\n",
    "\n",
    "print(\"Plaintext Fairness Metrics:\")\n",
    "print(plain_fairness_metrics)\n",
    "print(\"\\nEncrypted Fairness Metrics:\")\n",
    "print(encrypted_fairness_metrics)"
   ]
  },
  {
   "cell_type": "code",
   "execution_count": null,
   "id": "b26dfb5f",
   "metadata": {},
   "outputs": [],
   "source": [
    "import matplotlib.pyplot as plt\n",
    "\n",
    "# Example: Visualize group-wise accuracy for a sensitive attribute (e.g., 'sex')\n",
    "sensitive_attr = 'sex'\n",
    "groups = df_test[sensitive_attr].unique()\n",
    "plain_group_acc = []\n",
    "enc_group_acc = []\n",
    "for group in groups:\n",
    "    idx = df_test[sensitive_attr] == group\n",
    "    plain_group_acc.append(accuracy_score(df_test.loc[idx, feat_dict['adult']['target']], plain_df_test.loc[idx, 'predicted_label']))\n",
    "    enc_group_acc.append(accuracy_score(df_test.loc[idx, feat_dict['adult']['target']], encrypted_df_test.loc[idx, 'predicted_label']))\n",
    "\n",
    "x = np.arange(len(groups))\n",
    "width = 0.35\n",
    "fig, ax = plt.subplots()\n",
    "rects1 = ax.bar(x - width/2, plain_group_acc, width, label='Plaintext')\n",
    "rects2 = ax.bar(x + width/2, enc_group_acc, width, label='Encrypted')\n",
    "ax.set_ylabel('Accuracy')\n",
    "ax.set_title(f'Group-wise Accuracy by {sensitive_attr.capitalize()}')\n",
    "ax.set_xticks(x)\n",
    "ax.set_xticklabels(groups)\n",
    "ax.legend()\n",
    "plt.show()"
   ]
  },
  {
   "cell_type": "code",
   "execution_count": null,
   "id": "e887c5d6",
   "metadata": {},
   "outputs": [],
   "source": [
    "import time\n",
    "import pandas as pd\n",
    "\n",
    "# Measure runtime for plaintext inference\n",
    "start_plain = time.time()\n",
    "y_pred_plain = model.predict(X_test)\n",
    "plain_runtime = time.time() - start_plain\n",
    "\n",
    "# Measure runtime for encrypted inference (first layer only)\n",
    "start_enc = time.time()\n",
    "y_pred_enc = []\n",
    "for enc_x in enc_X_test:\n",
    "    enc_out, _ = encrypted_forward_modular(model, enc_x, context)\n",
    "    out = enc_out.decrypt()\n",
    "    if isinstance(out, list):\n",
    "        out = out[0]\n",
    "    y_pred_enc.append(int(out > 0.5))\n",
    "enc_runtime = time.time() - start_enc\n",
    "\n",
    "# Compute accuracy\n",
    "from sklearn.metrics import accuracy_score\n",
    "acc_plain = accuracy_score(y_test, y_pred_plain)\n",
    "acc_enc = accuracy_score(y_test, y_pred_enc)\n",
    "\n",
    "# Display fairness metrics (already computed above)\n",
    "plain_metrics = plain_fairness_metrics\n",
    "enc_metrics = encrypted_fairness_metrics\n",
    "\n",
    "# Combine results in a DataFrame for easy comparison\n",
    "results_df = pd.DataFrame({\n",
    "    'Type': ['Plaintext', 'Encrypted'],\n",
    "    'Accuracy': [acc_plain, acc_enc],\n",
    "    'Runtime (s)': [plain_runtime, enc_runtime],\n",
    "    'Fairness Metric Example': [plain_metrics.get('demographic_parity_difference', 'N/A'), enc_metrics.get('demographic_parity_difference', 'N/A')]\n",
    "})\n",
    "\n",
    "print(\"\\nComparison of Plaintext vs. Encrypted Inference:\")\n",
    "display(results_df)\n"
   ]
  },
  {
   "cell_type": "markdown",
   "id": "ffdbfca9",
   "metadata": {},
   "source": [
    "<details>\n",
    "\n",
    "<summary> Understanding Fairness Metrics</summary>\n",
    "\n",
    "- **Demographic Parity Difference:** Measures the difference in positive prediction rates between sensitive groups (e.g., male vs. female). A value close to 0 indicates fairness.\n",
    "- **Equal Opportunity Difference:** Compares true positive rates between groups. A value close to 0 means both groups have equal opportunity for positive outcomes.\n",
    "- **Average Odds Difference:** Averages the differences in both true positive and false positive rates between groups. Lower values indicate fairer models.\n",
    "\n",
    "These metrics help assess whether the model's predictions are biased with respect to sensitive attributes, both in plaintext and encrypted inference.\n",
    "\n",
    "</details>"
   ]
  },
  {
   "cell_type": "markdown",
   "id": "f5ccaea6",
   "metadata": {},
   "source": [
    "<details>\n",
    "\n",
    "<summary> Practical Considerations </summary>\n",
    "\n",
    "- **Current Limitations:**\n",
    "  - For multi-layer neural networks, implementing a full encrypted forward pass is challenging due to the limitations of homomorphic encryption (no support for non-polynomial activations, no efficient batching for arbitrary layers). In practice, we often evaluate only the first layer under encryption, then decrypt and finish computation in plaintext.\n",
    "  - The above example demonstrates that encrypted inference can achieve similar accuracy to plaintext inference, but at a much higher computational cost. Try printing or tabulating both accuracy and runtime for plaintext vs encrypted inference to see the tradeoff.\n",
    "  - This workflow enables privacy-preserving ML experiments, and can be extended to study fairness (e.g., by evaluating group-wise accuracy on encrypted data) and feature attribution (e.g., by perturbing encrypted inputs and observing the effect on predictions).\n",
    "  - Encrypted inference is much slower than plaintext, and requires careful parameter tuning to balance security, accuracy, and efficiency.\n",
    "\n",
    "- **What Would Enable Deeper Encrypted Inference?**\n",
    "  - More efficient HE schemes or hardware acceleration.\n",
    "  - Better polynomial approximations for activations, or new network architectures designed for HE.\n",
    "  - Improved ciphertext management (e.g., bootstrapping) to allow deeper computations.\n",
    "\n",
    "- **Suggestions for Extension:**\n",
    "  - Try different polynomial degrees for activation and observe the effect on accuracy and fairness.\n",
    "  - Experiment with other datasets or sensitive attributes.\n",
    "  - Implement encrypted feature attribution by perturbing encrypted inputs and measuring prediction changes.\n",
    "  - Automate runtime and fairness reporting for scientific comparison.\n",
    "</details>\n",
    "\n",
    "**Summary:**\n",
    "This notebook provides a foundation for privacy-preserving and fair ML experiments using homomorphic encryption. With further research and engineering, these techniques can be extended to more complex models and real-world applications."
   ]
  }
 ],
 "metadata": {
  "kernelspec": {
   "display_name": "encryptML",
   "language": "python",
   "name": "python3"
  },
  "language_info": {
   "codemirror_mode": {
    "name": "ipython",
    "version": 3
   },
   "file_extension": ".py",
   "mimetype": "text/x-python",
   "name": "python",
   "nbconvert_exporter": "python",
   "pygments_lexer": "ipython3",
   "version": "3.12.11"
  }
 },
 "nbformat": 4,
 "nbformat_minor": 5
}
